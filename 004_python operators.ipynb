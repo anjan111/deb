{
 "cells": [
  {
   "cell_type": "code",
   "execution_count": 1,
   "metadata": {},
   "outputs": [
    {
     "name": "stdout",
     "output_type": "stream",
     "text": [
      "12\n",
      "-12\n",
      "False\n",
      "-13\n"
     ]
    }
   ],
   "source": [
    "'''\n",
    "Operator :- which are used for to do the operation\n",
    "\n",
    "operand  :- the data with in the operation\n",
    "\n",
    "            10 +20 ==>> 30 ====>>> 10 ===>> operands\n",
    "operation : the way of sloving the equation\n",
    "\n",
    "'''\n",
    "# operators are classified based on 2 ways \n",
    "'''\n",
    "==>> based on operands\n",
    "\n",
    "===>> based on operations\n",
    "'''\n",
    "\n",
    "# Based on operands \n",
    "'''\n",
    "===>> Based on no of operands with in the operation\n",
    "\n",
    "        ==>> unary operator\n",
    "        \n",
    "        ===>> binary operator\n",
    "'''\n",
    "# unary operator ===>>>  \n",
    "\n",
    "'''\n",
    "===>> A single operator can operating on single operand\n",
    "'''\n",
    "\n",
    "\n",
    "a =12\n",
    "print   +a\n",
    "print   -a\n",
    "print  not a\n",
    "print ~a"
   ]
  },
  {
   "cell_type": "code",
   "execution_count": 2,
   "metadata": {},
   "outputs": [
    {
     "name": "stdout",
     "output_type": "stream",
     "text": [
      "14\n",
      "24\n"
     ]
    }
   ],
   "source": [
    "# binary operator\n",
    "'''\n",
    "===>>> A single operator operating on 2 operands \n",
    "'''\n",
    "a  =12\n",
    "b = 2\n",
    "print a+b\n",
    "print a*b"
   ]
  },
  {
   "cell_type": "code",
   "execution_count": 4,
   "metadata": {},
   "outputs": [
    {
     "name": "stdout",
     "output_type": "stream",
     "text": [
      "enter int : 13\n",
      "enter int : 2\n",
      "13  +  2  ==>>  15\n",
      "13  -  2  ==>>  11\n",
      "13  *  2  ==>>  26\n",
      "13  /  2  ==>>  6\n",
      "13  %  2  ==>>  1\n"
     ]
    }
   ],
   "source": [
    "#based on operations\n",
    "'''\n",
    "Today :-\n",
    "\n",
    "===>>> arithmetic operator\n",
    "===>>> relational operator\n",
    "===>>> special operator\n",
    "===>>> assignment operator\n",
    "\n",
    "Next class :-\n",
    "\n",
    "===>> logical operator\n",
    "===>> Bitwise Operator\n",
    "\n",
    "\n",
    "'''\n",
    "# arithmetic Operator\n",
    "'''\n",
    "+ --------->> addition\n",
    "-  ------->>> subtraction\n",
    "*  ------->>> multiplication\n",
    "/  ------->>> division\n",
    "% ------->>> reminder\n",
    "'''\n",
    "# int data with arithmetic Operatot\n",
    "a = input(\"enter int : \")\n",
    "b = input(\"enter int : \")\n",
    "print a,\" + \",b,\" ==>> \",a+b\n",
    "print a,\" - \",b,\" ==>> \",a-b\n",
    "print a,\" * \",b,\" ==>> \",a*b\n",
    "print a,\" / \",b,\" ==>> \",a/b\n",
    "print a,\" % \",b,\" ==>> \",a%b"
   ]
  },
  {
   "cell_type": "code",
   "execution_count": 5,
   "metadata": {},
   "outputs": [
    {
     "name": "stdout",
     "output_type": "stream",
     "text": [
      "enter float : 13.0\n",
      "enter float : 2.0\n",
      "13.0  +  2.0  ==>>  15.0\n",
      "13.0  -  2.0  ==>>  11.0\n",
      "13.0  *  2.0  ==>>  26.0\n",
      "13.0  /  2.0  ==>>  6.5\n",
      "13.0  %  2.0  ==>>  1.0\n"
     ]
    }
   ],
   "source": [
    "# float data with arithmetic Operatot\n",
    "a = input(\"enter float : \")\n",
    "b = input(\"enter float : \")\n",
    "print a,\" + \",b,\" ==>> \",a+b\n",
    "print a,\" - \",b,\" ==>> \",a-b\n",
    "print a,\" * \",b,\" ==>> \",a*b\n",
    "print a,\" / \",b,\" ==>> \",a/b\n",
    "print a,\" % \",b,\" ==>> \",a%b"
   ]
  },
  {
   "cell_type": "code",
   "execution_count": 3,
   "metadata": {},
   "outputs": [
    {
     "name": "stdout",
     "output_type": "stream",
     "text": [
      "enter int : 13\n",
      "enter int: 2\n",
      "13  **  2  ==>>  169\n",
      "13  //  2  ==>>  6\n",
      "13  /  2 ====>>  6\n",
      "enter float : 13.0\n",
      "enter float : 2.0\n",
      "13.0  **  2.0  ==>>  169.0\n",
      "13.0  //  2.0  ==>>  6.0\n",
      "13.0  /  2.0 ====>>  6.5\n"
     ]
    }
   ],
   "source": [
    "###   two more arithmetic operator\n",
    "'''\n",
    "===>>>   a ** b -->>  a  power of b\n",
    "\n",
    "===>>>   a // b  --->>  \n",
    "'''\n",
    "a = input(\"enter int : \")\n",
    "b = input(\"enter int: \")\n",
    "print a,\" ** \",b,\" ==>> \",a**b\n",
    "print a,\" // \",b,\" ==>> \",a//b\n",
    "print a,\" / \",b,\"====>> \",a/b\n",
    "\n",
    "a = input(\"enter float : \")\n",
    "b = input(\"enter float : \")\n",
    "print a,\" ** \",b,\" ==>> \",a**b\n",
    "print a,\" // \",b,\" ==>> \",a//b\n",
    "print a,\" / \",b,\"====>> \",a/b"
   ]
  },
  {
   "cell_type": "code",
   "execution_count": null,
   "metadata": {},
   "outputs": [],
   "source": []
  },
  {
   "cell_type": "code",
   "execution_count": null,
   "metadata": {},
   "outputs": [],
   "source": []
  },
  {
   "cell_type": "code",
   "execution_count": 5,
   "metadata": {},
   "outputs": [
    {
     "name": "stdout",
     "output_type": "stream",
     "text": [
      "enter  side of square meter : 5\n",
      "area of sqr  :  25  sq.m\n",
      "perimeterof sqr :  20   meter\n"
     ]
    }
   ],
   "source": [
    "# wap find the area of square and perimeter\n",
    "side = input(\"enter  side of square meter : \")\n",
    "area = side ** 2\n",
    "peri = 4 * side\n",
    "print \"area of sqr  : \",area,\" sq.m\"\n",
    "print \"perimeterof sqr : \",peri,\"  meter\""
   ]
  },
  {
   "cell_type": "code",
   "execution_count": null,
   "metadata": {},
   "outputs": [],
   "source": []
  },
  {
   "cell_type": "code",
   "execution_count": null,
   "metadata": {},
   "outputs": [],
   "source": []
  },
  {
   "cell_type": "code",
   "execution_count": 8,
   "metadata": {},
   "outputs": [],
   "source": [
    "# wap find the area and perimeter of rectangle\n",
    "\n",
    "# wap find the area and perimter of triangle\n",
    "        # peri  = a+b+c\n",
    "        #  s = ( a+ b+ c) / 2\n",
    "        # area  = ( s * ( s-a) * ( s- b) * (s-c)) ** 0.5\n",
    "\n",
    "# wap find simple intrest \n",
    "\n",
    "# wap find volume and area of cube"
   ]
  },
  {
   "cell_type": "code",
   "execution_count": 6,
   "metadata": {},
   "outputs": [
    {
     "name": "stdout",
     "output_type": "stream",
     "text": [
      "enter int : 10\n",
      "enter int : 20\n",
      "10  <  20  ==>>  True\n",
      "10  >  20  ==>>  False\n",
      "10  ==  20  ==>>  False\n",
      "10  !=  20  ==>>  True\n",
      "10  <=  20  ==>>  True\n",
      "10  >=  20  ==>>  False\n"
     ]
    }
   ],
   "source": [
    "# Relational Operators :\n",
    "'''\n",
    "===>>> compare any 2 operands\n",
    "\n",
    "===>>> we can use with in the conditional statements\n",
    "\n",
    "===>>> The result of relational operators are True/ False\n",
    "'''\n",
    "#they are 6 relational\n",
    "'''\n",
    "<   -->> lessthan\n",
    ">   -->> greaterthan\n",
    "==  -->> equaltoo\n",
    "!=  -->> not equal \n",
    "<=  --->> lessthan or equal too\n",
    ">=  --->> greaterthan or equal too\n",
    "'''\n",
    "a = input(\"enter int : \")\n",
    "b = input(\"enter int : \")\n",
    "print a,\" < \",b,\" ==>> \",a<b\n",
    "print a,\" > \",b,\" ==>> \",a>b\n",
    "print a,\" == \",b,\" ==>> \",a==b\n",
    "print a,\" != \",b,\" ==>> \",a!=b\n",
    "print a,\" <= \",b,\" ==>> \",a<=b\n",
    "print a,\" >= \",b,\" ==>> \",a>=b"
   ]
  },
  {
   "cell_type": "code",
   "execution_count": null,
   "metadata": {},
   "outputs": [],
   "source": []
  },
  {
   "cell_type": "code",
   "execution_count": 11,
   "metadata": {},
   "outputs": [
    {
     "name": "stdout",
     "output_type": "stream",
     "text": [
      "enter age of you : 12\n",
      "12  is more than 18  False\n"
     ]
    }
   ],
   "source": [
    "# wap find the your age is more than 18 or not\n",
    "age= input(\"enter age of you : \")\n",
    "print age,\" is more than 18 \",age > 18"
   ]
  },
  {
   "cell_type": "code",
   "execution_count": 13,
   "metadata": {},
   "outputs": [
    {
     "name": "stdout",
     "output_type": "stream",
     "text": [
      "enter num : 44\n",
      "44  is even :  True\n"
     ]
    }
   ],
   "source": [
    "#wap find thegiven number is even or not\n",
    "num = input(\"enter num : \")\n",
    "res = num %2\n",
    "print num,\" is even : \",res == 0"
   ]
  },
  {
   "cell_type": "code",
   "execution_count": 15,
   "metadata": {},
   "outputs": [
    {
     "name": "stdout",
     "output_type": "stream",
     "text": [
      "12\n",
      "12\n",
      "288\n"
     ]
    }
   ],
   "source": [
    "#### Assignment operator ######\n",
    "'''\n",
    "===>> we are assign the data fro left side to right side variable\n",
    "\n",
    "'''\n",
    "a = 12  # constant to variable\n",
    "\n",
    "b = a   # variable to variable\n",
    "\n",
    "c = a*b +12*a # expression to variable\n",
    "print a\n",
    "print b\n",
    "print c"
   ]
  },
  {
   "cell_type": "code",
   "execution_count": 18,
   "metadata": {},
   "outputs": [
    {
     "name": "stdout",
     "output_type": "stream",
     "text": [
      "13\n",
      "2\n",
      "15\n",
      "2\n",
      "13\n",
      "2\n",
      "26\n",
      "2\n"
     ]
    }
   ],
   "source": [
    "### compound assignment ####\n",
    "'''\n",
    "a = a +b  ====>>>>   a += b ## addition then update\n",
    "a = a -b  ====>>>>   a  -= b ## subtraction then update\n",
    "'''\n",
    "a = 13\n",
    "b = 2\n",
    "print a\n",
    "print b\n",
    "a += b  # a= a+b\n",
    "print a\n",
    "print b\n",
    "a -= b # a = a-b\n",
    "print a\n",
    "print b\n",
    "a *= b # a = a*b\n",
    "print a\n",
    "print b"
   ]
  },
  {
   "cell_type": "code",
   "execution_count": null,
   "metadata": {},
   "outputs": [],
   "source": [
    "# special operators \n",
    "\n",
    "# There are 2 types\n",
    "'''\n",
    "==>> membership operator\n",
    "=============================\n",
    "=======>>>  with in the group of elements whether the single element\n",
    "is available\n",
    "\n",
    "        in ===>> True --->> available  , False--> not available\n",
    "        not in ==>> False -->> avaialable , True -->>not avaialable   \n",
    "            \n",
    "\n",
    "==>> identity operator\n",
    "\n",
    "    ==>> TO check the variable memory loc is same or not\n",
    "    \n",
    "    is -->> True --> same  ,   False --> diffrent \n",
    "    \n",
    "    is not -->> False -->> same ,  True -->> different\n",
    "'''"
   ]
  },
  {
   "cell_type": "code",
   "execution_count": 20,
   "metadata": {},
   "outputs": [
    {
     "name": "stdout",
     "output_type": "stream",
     "text": [
      "[12, 45, 78, 90]  contains  45  ==>>  True\n",
      "[12, 45, 78, 90]  contains  100  ==>>  False\n",
      "[12, 45, 78, 90]  not  contains  45  ==>>  False\n",
      "[12, 45, 78, 90]  not  contains  100  ==>>  True\n"
     ]
    }
   ],
   "source": [
    "a = [12 ,45,78,90]\n",
    "b = 45\n",
    "c = 100\n",
    "print a,\" contains \",b, \" ==>> \", b in a\n",
    "print a,\" contains \",c, \" ==>> \", c in a\n",
    "print a,\" not  contains \",b, \" ==>> \", b not in a\n",
    "print a,\" not  contains \",c, \" ==>> \", c not  in a"
   ]
  },
  {
   "cell_type": "code",
   "execution_count": null,
   "metadata": {},
   "outputs": [],
   "source": [
    "a = [1,2,3]\n",
    "b = [1,2,3]\n",
    "c = a\n",
    "print \"a : \",a\n",
    "print \"b : \",b\n",
    "print \"c : \",c\n",
    "print \" id a : \",id(a)\n",
    "print \" id b : \",id(b)\n",
    "print \" id c : \",id(c)\n",
    "print a,\" is \", b ,\" ===>> \", a is b\n",
    "print a,\" is \", c,\" ===>> \", a is c\n",
    "print a,\" is not \", b ,\" ===>> \", a is not b\n",
    "print a,\" is not \", c,\" ===>> \", a is not c"
   ]
  },
  {
   "cell_type": "code",
   "execution_count": null,
   "metadata": {},
   "outputs": [],
   "source": [
    "# Logical operator :-\n",
    "\n",
    "'''\n",
    "===>>> The operators are operating based on logic\n",
    "\n",
    "===>>> Logical AND  ---->>> and\n",
    "--------------------------------\n",
    "    ==>> res --->> input1\n",
    "    \n",
    "    res is input1 when input1 is False case  Data \n",
    "    res is input2 when input1 is True case daata\n",
    "\n",
    "===>>> Logical OR   ---->>>  or\n",
    "--------------------------------\n",
    "    ==>> res --->> input1\n",
    "    \n",
    "    res is input1 when input1 is True case  Data \n",
    "    res is input2 when input1 is False case daata\n",
    "    \n",
    "===>>> Logical NOT  ---->>>  not \n",
    "\n",
    "res ===>>> True  , input is False case\n",
    "res ===>>> False , input is True case\n",
    "'''"
   ]
  },
  {
   "cell_type": "code",
   "execution_count": 1,
   "metadata": {},
   "outputs": [
    {
     "name": "stdout",
     "output_type": "stream",
     "text": [
      "90\n",
      "[]\n",
      "()\n"
     ]
    }
   ],
   "source": [
    "# int --->>>  0---> False   , +ve/-ve -->> True\n",
    "# float -->>> 0.0--> False  , +ve/-ve -->> True\n",
    "# complex-->>  0+0j -> False , +ve/-ve -->> True\n",
    "# bool  ===>> False --> False ,  True ---> True\n",
    "# None --->>>   None --->> False\n",
    "# str,list, tuple, set, dict --->> len is 0 --> false\n",
    "print 10 and 90 ####  90\n",
    "print [] and () ###   []\n",
    "print {1,2} and ()## ()"
   ]
  },
  {
   "cell_type": "code",
   "execution_count": 2,
   "metadata": {},
   "outputs": [
    {
     "name": "stdout",
     "output_type": "stream",
     "text": [
      "10\n",
      "()\n",
      "set([1, 2])\n"
     ]
    }
   ],
   "source": [
    "print 10 or 90 ####  10\n",
    "print [] or () ###   ()\n",
    "print {1,2} or ()## {1,2}"
   ]
  },
  {
   "cell_type": "code",
   "execution_count": 3,
   "metadata": {},
   "outputs": [
    {
     "name": "stdout",
     "output_type": "stream",
     "text": [
      "False\n",
      "True\n",
      "True\n"
     ]
    }
   ],
   "source": [
    "print not 56   ### False\n",
    "print not {}   ### True\n",
    "print not 0+0j ### True"
   ]
  },
  {
   "cell_type": "code",
   "execution_count": 7,
   "metadata": {},
   "outputs": [
    {
     "name": "stdout",
     "output_type": "stream",
     "text": [
      "enter year : 1901\n",
      "1901  is leap :  False\n"
     ]
    }
   ],
   "source": [
    "# wap find the given year is leap or not\n",
    "# Test cases \n",
    "# 1900 --->> False\n",
    "# 2000---->> True\n",
    "# 1904 --->> True\n",
    "# 1901 --->> False\n",
    "year = input(\"enter year : \")\n",
    "res =(year%4 == 0 and year %100 != 0) or  (year %400 == 0)\n",
    "print year,\" is leap : \",res"
   ]
  },
  {
   "cell_type": "code",
   "execution_count": 8,
   "metadata": {},
   "outputs": [
    {
     "name": "stdout",
     "output_type": "stream",
     "text": [
      "0\n",
      "4\n"
     ]
    }
   ],
   "source": [
    "# bitwise operator\n",
    "'''\n",
    "===>>> which are operating on the binary data of given inputs\n",
    "1. bitwise AND  ===>>   &\n",
    "        ==>>  0  0 -->> 0\n",
    "        ==>>  0  1 -->> 0\n",
    "        ==>>  1  0 -->> 0\n",
    "        ==>>  1  1 -->> 1\n",
    "\n",
    "2. bitwise OR   ===>>   |\n",
    "        ==>>  0  0 -->> 0\n",
    "        ==>>  0  1 -->> 1\n",
    "        ==>>  1  0 -->> 1\n",
    "        ==>>  1  1 -->> 1\n",
    "\n",
    "\n",
    "3. bitwise XOR  ===>>   ^\n",
    "        ==>>  0  0 -->> 0\n",
    "        ==>>  0  1 -->> 1\n",
    "        ==>>  1  0 -->> 1\n",
    "        ==>>  1  1 -->> 0\n",
    "\n",
    "\n",
    "4. bitwise leftshift    <<   ====>>>  num  << no_bit\n",
    "\n",
    "        10 << 2 ====>>\n",
    "\n",
    "        1. decimal ===>> binary \n",
    "        2.adding the  no of bits zeros at right side\n",
    "        3. convert binary to decimal\n",
    "\n",
    "\n",
    "5. bitwise rightshift   >>   ====>>> num  >>  no_bit\n",
    "\n",
    "        1. decimal ===>> binary\n",
    "        2. removing the no of bits at right side\n",
    "        3. convert from binary to decimal\n",
    "\n",
    "\n",
    "\n",
    "6. bitwise Not    ==>>  ~\n",
    "\n",
    "steps :\n",
    "1. inputs decimal ---->>> binary data\n",
    "2. apply the operation on binary odata\n",
    "3. binary result  ---->> decimal result\n",
    "\n",
    "'''\n",
    "print 10 & 5 \n",
    "print 7  & 12\n"
   ]
  },
  {
   "cell_type": "code",
   "execution_count": 9,
   "metadata": {},
   "outputs": [
    {
     "name": "stdout",
     "output_type": "stream",
     "text": [
      "15\n",
      "15\n"
     ]
    }
   ],
   "source": [
    "print 10 | 5 \n",
    "print 7  | 12"
   ]
  },
  {
   "cell_type": "code",
   "execution_count": 10,
   "metadata": {},
   "outputs": [
    {
     "name": "stdout",
     "output_type": "stream",
     "text": [
      "15\n",
      "11\n"
     ]
    }
   ],
   "source": [
    "print 10 ^ 5 \n",
    "print 7  ^ 12"
   ]
  },
  {
   "cell_type": "code",
   "execution_count": 12,
   "metadata": {},
   "outputs": [
    {
     "name": "stdout",
     "output_type": "stream",
     "text": [
      "40\n",
      "120\n"
     ]
    }
   ],
   "source": [
    "print 10 << 2\n",
    "print 15 << 3"
   ]
  },
  {
   "cell_type": "code",
   "execution_count": 14,
   "metadata": {},
   "outputs": [
    {
     "name": "stdout",
     "output_type": "stream",
     "text": [
      "2\n",
      "1\n"
     ]
    }
   ],
   "source": [
    "print 10 >> 2\n",
    "print 15 >> 3"
   ]
  },
  {
   "cell_type": "code",
   "execution_count": 17,
   "metadata": {},
   "outputs": [
    {
     "name": "stdout",
     "output_type": "stream",
     "text": [
      "-6\n",
      "-11\n"
     ]
    }
   ],
   "source": [
    "print ~5  #  -(num + 1)\n",
    "print ~10"
   ]
  },
  {
   "cell_type": "code",
   "execution_count": 20,
   "metadata": {},
   "outputs": [
    {
     "ename": "TypeError",
     "evalue": "unsupported operand type(s) for |: 'float' and 'float'",
     "output_type": "error",
     "traceback": [
      "\u001b[1;31m---------------------------------------------------------------------------\u001b[0m",
      "\u001b[1;31mTypeError\u001b[0m                                 Traceback (most recent call last)",
      "\u001b[1;32m<ipython-input-20-fbb491d9e7ee>\u001b[0m in \u001b[0;36m<module>\u001b[1;34m()\u001b[0m\n\u001b[1;32m----> 1\u001b[1;33m \u001b[1;32mprint\u001b[0m \u001b[1;36m12.34\u001b[0m \u001b[1;33m|\u001b[0m \u001b[1;36m2.3\u001b[0m\u001b[1;33m\u001b[0m\u001b[0m\n\u001b[0m",
      "\u001b[1;31mTypeError\u001b[0m: unsupported operand type(s) for |: 'float' and 'float'"
     ]
    }
   ],
   "source": [
    "print 12.34 | 2.3"
   ]
  },
  {
   "cell_type": "code",
   "execution_count": null,
   "metadata": {},
   "outputs": [],
   "source": []
  },
  {
   "cell_type": "code",
   "execution_count": null,
   "metadata": {},
   "outputs": [],
   "source": []
  },
  {
   "cell_type": "code",
   "execution_count": null,
   "metadata": {},
   "outputs": [],
   "source": []
  },
  {
   "cell_type": "code",
   "execution_count": null,
   "metadata": {},
   "outputs": [],
   "source": []
  },
  {
   "cell_type": "code",
   "execution_count": null,
   "metadata": {},
   "outputs": [],
   "source": []
  },
  {
   "cell_type": "code",
   "execution_count": null,
   "metadata": {},
   "outputs": [],
   "source": []
  },
  {
   "cell_type": "code",
   "execution_count": null,
   "metadata": {},
   "outputs": [],
   "source": []
  }
 ],
 "metadata": {
  "kernelspec": {
   "display_name": "Python 2",
   "language": "python",
   "name": "python2"
  },
  "language_info": {
   "codemirror_mode": {
    "name": "ipython",
    "version": 2
   },
   "file_extension": ".py",
   "mimetype": "text/x-python",
   "name": "python",
   "nbconvert_exporter": "python",
   "pygments_lexer": "ipython2",
   "version": "2.7.16"
  }
 },
 "nbformat": 4,
 "nbformat_minor": 2
}
