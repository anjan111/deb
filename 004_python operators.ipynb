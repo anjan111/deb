{
 "cells": [
  {
   "cell_type": "code",
   "execution_count": 1,
   "metadata": {},
   "outputs": [
    {
     "name": "stdout",
     "output_type": "stream",
     "text": [
      "12\n",
      "-12\n",
      "False\n",
      "-13\n"
     ]
    }
   ],
   "source": [
    "# unary operator\n",
    "a =12\n",
    "print   +a\n",
    "print   -a\n",
    "print  not a\n",
    "print ~a"
   ]
  },
  {
   "cell_type": "code",
   "execution_count": 2,
   "metadata": {},
   "outputs": [
    {
     "name": "stdout",
     "output_type": "stream",
     "text": [
      "14\n",
      "24\n"
     ]
    }
   ],
   "source": [
    "# binary operator\n",
    "a  =12\n",
    "b = 2\n",
    "print a+b\n",
    "print a*b"
   ]
  },
  {
   "cell_type": "code",
   "execution_count": 4,
   "metadata": {},
   "outputs": [
    {
     "name": "stdout",
     "output_type": "stream",
     "text": [
      "enter int : 13\n",
      "enter int : 2\n",
      "13  +  2  ==>>  15\n",
      "13  -  2  ==>>  11\n",
      "13  *  2  ==>>  26\n",
      "13  /  2  ==>>  6\n",
      "13  %  2  ==>>  1\n"
     ]
    }
   ],
   "source": [
    "#based on operations\n",
    "'''\n",
    "Today :-\n",
    "\n",
    "===>>> arithmetic operator\n",
    "===>>> relational operator\n",
    "===>>> special operator\n",
    "===>>> assignment operator\n",
    "\n",
    "Next class :-\n",
    "\n",
    "===>> logical operator\n",
    "===>> Bitwise Operator\n",
    "\n",
    "\n",
    "'''\n",
    "# arithmetic Operator\n",
    "'''\n",
    "+ --------->> addition\n",
    "-  ------->>> subtraction\n",
    "*  ------->>> multiplication\n",
    "/  ------->>> division\n",
    "% ------->>> reminder\n",
    "'''\n",
    "# int data with arithmetic Operatot\n",
    "a = input(\"enter int : \")\n",
    "b = input(\"enter int : \")\n",
    "print a,\" + \",b,\" ==>> \",a+b\n",
    "print a,\" - \",b,\" ==>> \",a-b\n",
    "print a,\" * \",b,\" ==>> \",a*b\n",
    "print a,\" / \",b,\" ==>> \",a/b\n",
    "print a,\" % \",b,\" ==>> \",a%b"
   ]
  },
  {
   "cell_type": "code",
   "execution_count": 5,
   "metadata": {},
   "outputs": [
    {
     "name": "stdout",
     "output_type": "stream",
     "text": [
      "enter float : 13.0\n",
      "enter float : 2.0\n",
      "13.0  +  2.0  ==>>  15.0\n",
      "13.0  -  2.0  ==>>  11.0\n",
      "13.0  *  2.0  ==>>  26.0\n",
      "13.0  /  2.0  ==>>  6.5\n",
      "13.0  %  2.0  ==>>  1.0\n"
     ]
    }
   ],
   "source": [
    "# float data with arithmetic Operatot\n",
    "a = input(\"enter float : \")\n",
    "b = input(\"enter float : \")\n",
    "print a,\" + \",b,\" ==>> \",a+b\n",
    "print a,\" - \",b,\" ==>> \",a-b\n",
    "print a,\" * \",b,\" ==>> \",a*b\n",
    "print a,\" / \",b,\" ==>> \",a/b\n",
    "print a,\" % \",b,\" ==>> \",a%b"
   ]
  },
  {
   "cell_type": "code",
   "execution_count": 6,
   "metadata": {},
   "outputs": [
    {
     "name": "stdout",
     "output_type": "stream",
     "text": [
      "enter int : 13\n",
      "enter int : 2\n",
      "13  **  2  ==>>  169\n",
      "13  //  2  ==>>  6\n",
      "enter float : 13.0\n",
      "enter float : 2.0\n",
      "13.0  **  2.0  ==>>  169.0\n",
      "13.0  //  2.0  ==>>  6.0\n"
     ]
    }
   ],
   "source": [
    "###   two more arithmetic operator\n",
    "'''\n",
    "===>>>   a ** b -->>  a  power of b\n",
    "\n",
    "===>>>   a // b  --->>  \n",
    "'''\n",
    "a = input(\"enter int : \")\n",
    "b = input(\"enter int : \")\n",
    "print a,\" ** \",b,\" ==>> \",a**b\n",
    "print a,\" // \",b,\" ==>> \",a//b\n",
    "\n",
    "a = input(\"enter float : \")\n",
    "b = input(\"enter float : \")\n",
    "print a,\" ** \",b,\" ==>> \",a**b\n",
    "print a,\" // \",b,\" ==>> \",a//b"
   ]
  },
  {
   "cell_type": "code",
   "execution_count": 7,
   "metadata": {},
   "outputs": [
    {
     "name": "stdout",
     "output_type": "stream",
     "text": [
      "enter  side of square meter : 14\n",
      "area of sqr  :  196  sq.m\n",
      "perimeterof sqr :  56   meter\n"
     ]
    }
   ],
   "source": [
    "# wap find the area of square and perimeter\n",
    "side = input(\"enter  side of square meter : \")\n",
    "area = side ** 2\n",
    "peri = 4 * side\n",
    "print \"area of sqr  : \",area,\" sq.m\"\n",
    "print \"perimeterof sqr : \",peri,\"  meter\""
   ]
  },
  {
   "cell_type": "code",
   "execution_count": 8,
   "metadata": {},
   "outputs": [],
   "source": [
    "# wap find the area and perimeter of rectangle\n",
    "\n",
    "# wap find the area and perimter of triangle\n",
    "        # peri  = a+b+c\n",
    "        #  s = ( a+ b+ c) / 2\n",
    "        # area  = ( s * ( s-a) * ( s- b) * (s-c)) ** 0.5\n",
    "\n",
    "# wap find simple intrest \n",
    "\n",
    "# wap find volume and area of cube"
   ]
  },
  {
   "cell_type": "code",
   "execution_count": 9,
   "metadata": {},
   "outputs": [
    {
     "name": "stdout",
     "output_type": "stream",
     "text": [
      "enter int : 45\n",
      "enter int : 50\n",
      "45  <  50  ==>>  True\n",
      "45  >  50  ==>>  False\n",
      "45  ==  50  ==>>  False\n",
      "45  !=  50  ==>>  True\n",
      "45  <=  50  ==>>  True\n",
      "45  >=  50  ==>>  False\n"
     ]
    }
   ],
   "source": [
    "# Relational Operators :\n",
    "'''\n",
    "===>>> compare any 2 operands\n",
    "\n",
    "===>>> we can use with in the conditional statements\n",
    "\n",
    "===>>> The result of relational operators are True/ False\n",
    "'''\n",
    "#they are 6 relational\n",
    "'''\n",
    "<   -->> lessthan\n",
    ">   -->> greaterthan\n",
    "==  -->> equaltoo\n",
    "!=  -->> not equal \n",
    "<=  --->> lessthan or equal too\n",
    ">=  --->> greaterthan or equal too\n",
    "'''\n",
    "a = input(\"enter int : \")\n",
    "b = input(\"enter int : \")\n",
    "print a,\" < \",b,\" ==>> \",a<b\n",
    "print a,\" > \",b,\" ==>> \",a>b\n",
    "print a,\" == \",b,\" ==>> \",a==b\n",
    "print a,\" != \",b,\" ==>> \",a!=b\n",
    "print a,\" <= \",b,\" ==>> \",a<=b\n",
    "print a,\" >= \",b,\" ==>> \",a>=b"
   ]
  },
  {
   "cell_type": "code",
   "execution_count": 11,
   "metadata": {},
   "outputs": [
    {
     "name": "stdout",
     "output_type": "stream",
     "text": [
      "enter age of you : 12\n",
      "12  is more than 18  False\n"
     ]
    }
   ],
   "source": [
    "# wap find the your age is more than 18 or not\n",
    "age= input(\"enter age of you : \")\n",
    "print age,\" is more than 18 \",age > 18"
   ]
  },
  {
   "cell_type": "code",
   "execution_count": 13,
   "metadata": {},
   "outputs": [
    {
     "name": "stdout",
     "output_type": "stream",
     "text": [
      "enter num : 44\n",
      "44  is even :  True\n"
     ]
    }
   ],
   "source": [
    "#wap find thegiven number is even or not\n",
    "num = input(\"enter num : \")\n",
    "res = num %2\n",
    "print num,\" is even : \",res == 0"
   ]
  },
  {
   "cell_type": "code",
   "execution_count": 15,
   "metadata": {},
   "outputs": [
    {
     "name": "stdout",
     "output_type": "stream",
     "text": [
      "12\n",
      "12\n",
      "288\n"
     ]
    }
   ],
   "source": [
    "#### Assignment operator ######\n",
    "'''\n",
    "===>> we are assign the data fro left side to right side variable\n",
    "\n",
    "'''\n",
    "a = 12  # constant to variable\n",
    "\n",
    "b = a   # variable to variable\n",
    "\n",
    "c = a*b +12*a # expression to variable\n",
    "print a\n",
    "print b\n",
    "print c"
   ]
  },
  {
   "cell_type": "code",
   "execution_count": 18,
   "metadata": {},
   "outputs": [
    {
     "name": "stdout",
     "output_type": "stream",
     "text": [
      "13\n",
      "2\n",
      "15\n",
      "2\n",
      "13\n",
      "2\n",
      "26\n",
      "2\n"
     ]
    }
   ],
   "source": [
    "### compound assignment ####\n",
    "'''\n",
    "a = a +b  ====>>>>   a += b ## addition then update\n",
    "a = a -b  ====>>>>   a  -= b ## subtraction then update\n",
    "'''\n",
    "a = 13\n",
    "b = 2\n",
    "print a\n",
    "print b\n",
    "a += b  # a= a+b\n",
    "print a\n",
    "print b\n",
    "a -= b # a = a-b\n",
    "print a\n",
    "print b\n",
    "a *= b # a = a*b\n",
    "print a\n",
    "print b"
   ]
  },
  {
   "cell_type": "code",
   "execution_count": null,
   "metadata": {},
   "outputs": [],
   "source": [
    "# special operators \n",
    "\n",
    "# There are 2 types\n",
    "'''\n",
    "==>> membership operator\n",
    "=============================\n",
    "=======>>>  with in the group of elements whether the single element\n",
    "is available\n",
    "\n",
    "        in ===>> True --->> available  , False--> not available\n",
    "        not in ==>> False -->> avaialable , True -->>not avaialable   \n",
    "            \n",
    "\n",
    "==>> identity operator\n",
    "\n",
    "    ==>> TO check the variable memory loc is same or not\n",
    "    \n",
    "    is -->> True --> same  ,   False --> diffrent \n",
    "    \n",
    "    is not -->> False -->> same ,  True -->> different\n",
    "'''"
   ]
  },
  {
   "cell_type": "code",
   "execution_count": 20,
   "metadata": {},
   "outputs": [
    {
     "name": "stdout",
     "output_type": "stream",
     "text": [
      "[12, 45, 78, 90]  contains  45  ==>>  True\n",
      "[12, 45, 78, 90]  contains  100  ==>>  False\n",
      "[12, 45, 78, 90]  not  contains  45  ==>>  False\n",
      "[12, 45, 78, 90]  not  contains  100  ==>>  True\n"
     ]
    }
   ],
   "source": [
    "a = [12 ,45,78,90]\n",
    "b = 45\n",
    "c = 100\n",
    "print a,\" contains \",b, \" ==>> \", b in a\n",
    "print a,\" contains \",c, \" ==>> \", c in a\n",
    "print a,\" not  contains \",b, \" ==>> \", b not in a\n",
    "print a,\" not  contains \",c, \" ==>> \", c not  in a"
   ]
  },
  {
   "cell_type": "code",
   "execution_count": null,
   "metadata": {},
   "outputs": [],
   "source": [
    "a = [1,2,3]\n",
    "b = [1,2,3]\n",
    "c = a\n",
    "print \"a : \",a\n",
    "print \"b : \",b\n",
    "print \"c : \",c\n",
    "print \" id a : \",id(a)\n",
    "print \" id b : \",id(b)\n",
    "print \" id c : \",id(c)\n",
    "print a,\" is \", b ,\" ===>> \", a is b\n",
    "print a,\" is \", c,\" ===>> \", a is c\n",
    "print a,\" is not \", b ,\" ===>> \", a is not b\n",
    "print a,\" is not \", c,\" ===>> \", a is not c"
   ]
  },
  {
   "cell_type": "code",
   "execution_count": null,
   "metadata": {},
   "outputs": [],
   "source": []
  },
  {
   "cell_type": "code",
   "execution_count": null,
   "metadata": {},
   "outputs": [],
   "source": []
  },
  {
   "cell_type": "code",
   "execution_count": null,
   "metadata": {},
   "outputs": [],
   "source": []
  }
 ],
 "metadata": {
  "kernelspec": {
   "display_name": "Python 2",
   "language": "python",
   "name": "python2"
  },
  "language_info": {
   "codemirror_mode": {
    "name": "ipython",
    "version": 2
   },
   "file_extension": ".py",
   "mimetype": "text/x-python",
   "name": "python",
   "nbconvert_exporter": "python",
   "pygments_lexer": "ipython2",
   "version": "2.7.16"
  }
 },
 "nbformat": 4,
 "nbformat_minor": 2
}
