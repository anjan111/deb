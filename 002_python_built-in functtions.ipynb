{
 "cells": [
  {
   "cell_type": "markdown",
   "metadata": {},
   "source": [
    "# Functions :-\n",
    "\n",
    "===>>>  A set of instruction can do any one specific task\n",
    "\n",
    "# Types\n",
    "\n",
    "1. User Defined Function :-\n",
    "\n",
    "    ===>>  Whatever the function which implemented by programmer\n",
    "    \n",
    "    ===>>  Will discuss later \n",
    "   \n",
    "2. Pre-defined functions\n",
    "\n",
    "      ===>>>  Whatever the functions are already defined inside of python\n",
    "      \n",
    "      1. input functions\n",
    "      \n",
    "              ====>>> Whatever the function which are used for to read the data from keyboard\n",
    "              \n",
    "              1. raw_input( )\n",
    "              \n",
    "              2. input() \n",
    "              \n",
    "      2. Output functions \n",
    "      \n",
    "              ===>> A function which is used for to display data on monitor\n",
    "              \n",
    "             1.  print ---->>> statement\n",
    "             \n",
    "             2.  print()---->> function\n",
    "             \n",
    "      3. type() ---->>> to know the datatype of any variable\n",
    "      \n",
    "      4. id() ------>>> to know the memory loc of any variable"
   ]
  },
  {
   "cell_type": "code",
   "execution_count": 1,
   "metadata": {},
   "outputs": [
    {
     "name": "stdout",
     "output_type": "stream",
     "text": [
      "enter int : 123\n",
      "data in var :  123\n",
      "<type 'str'>\n",
      "memory :  72731424\n"
     ]
    }
   ],
   "source": [
    "# wap read the data from keyboard using raw_input\n",
    "# display data,datatype, memory\n",
    "\n",
    "var = raw_input(\"enter int : \") # 123---->>> var\n",
    "print \"data in var : \",var # print statement\n",
    "print(type(var)) # str\n",
    "print \"memory : \",id(var)"
   ]
  },
  {
   "cell_type": "code",
   "execution_count": 2,
   "metadata": {},
   "outputs": [
    {
     "name": "stdout",
     "output_type": "stream",
     "text": [
      "enter float : 12.3\n",
      "data in var :  12.3\n",
      "<type 'str'>\n",
      "memory :  72732624\n"
     ]
    }
   ],
   "source": [
    "var = raw_input(\"enter float : \") # 12.3---->>> var\n",
    "print \"data in var : \",var # print statement\n",
    "print(type(var)) # str\n",
    "print \"memory : \",id(var)"
   ]
  },
  {
   "cell_type": "code",
   "execution_count": 3,
   "metadata": {},
   "outputs": [
    {
     "name": "stdout",
     "output_type": "stream",
     "text": [
      "enter complex : 12+56j\n",
      "data in var :  12+56j\n",
      "<type 'str'>\n",
      "memory :  72732264\n"
     ]
    }
   ],
   "source": [
    "var = raw_input(\"enter complex : \") # 12 + 56j ---->>> var\n",
    "print \"data in var : \",var # print statement\n",
    "print(type(var)) # str\n",
    "print \"memory : \",id(var)"
   ]
  },
  {
   "cell_type": "code",
   "execution_count": 4,
   "metadata": {},
   "outputs": [
    {
     "name": "stdout",
     "output_type": "stream",
     "text": [
      "enter bool : True\n",
      "data in var :  True\n",
      "<type 'str'>\n",
      "memory :  72731584\n"
     ]
    }
   ],
   "source": [
    "var = raw_input(\"enter bool : \") # 123---->>> var\n",
    "print \"data in var : \",var # print statement\n",
    "print(type(var)) # str\n",
    "print \"memory : \",id(var)"
   ]
  },
  {
   "cell_type": "code",
   "execution_count": null,
   "metadata": {},
   "outputs": [],
   "source": [
    "# the above program run 6 times for each time use new datatype data"
   ]
  },
  {
   "cell_type": "code",
   "execution_count": 5,
   "metadata": {},
   "outputs": [
    {
     "name": "stdout",
     "output_type": "stream",
     "text": [
      "enter num1 : 78\n",
      "enter num2 : 22\n",
      "78  +  22 ===>>>  7822\n"
     ]
    }
   ],
   "source": [
    "# wap sum of 2 numbers\n",
    "\n",
    "num1 = raw_input(\"enter num1 : \")\n",
    "num2 = raw_input(\"enter num2 : \")\n",
    "res = num1+num2\n",
    "print num1,\" + \",num2, \"===>>> \",res"
   ]
  },
  {
   "cell_type": "markdown",
   "metadata": {},
   "source": [
    "# datatype conversion functions :-\n",
    "\n",
    "===>>> str()\n",
    "\n",
    "===>>> raw_input===>> int===>> str ===>> int() ===>>> int\n",
    "\n",
    "===>>> raw_input===>> float===>> str ===>> float() ===>>>float\n",
    "\n",
    "===>>> raw_input===>> complex=>> str ===>> complex() ===>>> complex\n",
    "\n",
    "===>>> raw_input===>> bool===>> str ===>> bool() ===>>> bool\n",
    "\n",
    "===>>> raw_input===>> list===>> str ===>> list() ===>>> list\n",
    "\n",
    "===>>> raw_input===>> tuple===>> str ===>> tuple() ===>>> tuple\n",
    "\n",
    "===>>> raw_input===>> set===>> str ===>> set() ===>>> set\n",
    "\n",
    "===>>> raw_input===>> dict===>> str ===>> dict() ===>>> dict"
   ]
  },
  {
   "cell_type": "code",
   "execution_count": 6,
   "metadata": {},
   "outputs": [
    {
     "name": "stdout",
     "output_type": "stream",
     "text": [
      "enter complex : 7+8j\n",
      "data in var :  7+8j\n",
      "<type 'str'>\n",
      "memory :  66665608\n",
      "data in var :  (7+8j)\n",
      "<type 'complex'>\n",
      "memory :  66730096\n"
     ]
    }
   ],
   "source": [
    "var = raw_input(\"enter complex : \") # 12 + 56j ---->>> var\n",
    "print \"data in var : \",var # print statement\n",
    "print(type(var)) # str\n",
    "print \"memory : \",id(var)\n",
    "var = complex(var)\n",
    "print \"data in var : \",var # print statement\n",
    "print(type(var)) # str\n",
    "print \"memory : \",id(var)"
   ]
  },
  {
   "cell_type": "code",
   "execution_count": 7,
   "metadata": {},
   "outputs": [
    {
     "name": "stdout",
     "output_type": "stream",
     "text": [
      "enter int : 78\n",
      "data in var :  78\n",
      "<type 'str'>\n",
      "memory :  66665288\n",
      "data in var :  78\n",
      "<type 'int'>\n",
      "memory :  33716976\n"
     ]
    }
   ],
   "source": [
    "var = raw_input(\"enter int : \") # 12 + 56j ---->>> var\n",
    "print \"data in var : \",var # print statement\n",
    "print(type(var)) # str\n",
    "print \"memory : \",id(var)\n",
    "var = int(var)\n",
    "print \"data in var : \",var # print statement\n",
    "print(type(var)) # str\n",
    "print \"memory : \",id(var)"
   ]
  },
  {
   "cell_type": "code",
   "execution_count": 8,
   "metadata": {},
   "outputs": [
    {
     "name": "stdout",
     "output_type": "stream",
     "text": [
      "enter float: 78.8994\n",
      "data in var :  78.8994\n",
      "<type 'str'>\n",
      "memory :  66665968\n",
      "data in var :  78.8994\n",
      "<type 'float'>\n",
      "memory :  66295960\n"
     ]
    }
   ],
   "source": [
    "var = raw_input(\"enter float: \") # 12 + 56j ---->>> var\n",
    "print \"data in var : \",var # print statement\n",
    "print(type(var)) # str\n",
    "print \"memory : \",id(var)\n",
    "var = float(var)\n",
    "print \"data in var : \",var # print statement\n",
    "print(type(var)) # str\n",
    "print \"memory : \",id(var)"
   ]
  },
  {
   "cell_type": "code",
   "execution_count": 9,
   "metadata": {},
   "outputs": [
    {
     "name": "stdout",
     "output_type": "stream",
     "text": [
      "enter Bool : True\n",
      "data in var :  True\n",
      "<type 'str'>\n",
      "memory :  66665168\n",
      "data in var :  True\n",
      "<type 'bool'>\n",
      "memory :  1751498472\n"
     ]
    }
   ],
   "source": [
    "var = raw_input(\"enter Bool : \") # 12 + 56j ---->>> var\n",
    "print \"data in var : \",var # print statement\n",
    "print(type(var)) # str\n",
    "print \"memory : \",id(var)\n",
    "var = bool(var)\n",
    "print \"data in var : \",var # print statement\n",
    "print(type(var)) # str\n",
    "print \"memory : \",id(var)"
   ]
  },
  {
   "cell_type": "code",
   "execution_count": 10,
   "metadata": {},
   "outputs": [
    {
     "name": "stdout",
     "output_type": "stream",
     "text": [
      "enter complex by raw_input : 7+8j\n",
      "data in var :  7+8j\n",
      "<type 'str'>\n",
      "memory :  72732344\n",
      "enter complex by input : 7+8j\n",
      "data in var :  (7+8j)\n",
      "<type 'complex'>\n",
      "memory :  66730384\n"
     ]
    }
   ],
   "source": [
    "var = raw_input(\"enter complex by raw_input : \") # 12 + 56j ---->>> var\n",
    "print \"data in var : \",var # print statement\n",
    "print(type(var)) # str\n",
    "print \"memory : \",id(var)\n",
    "var = input(\"enter complex by input : \") # 12 + 56j ---->>> var\n",
    "print \"data in var : \",var # print statement\n",
    "print(type(var)) # str\n",
    "print \"memory : \",id(var)"
   ]
  },
  {
   "cell_type": "code",
   "execution_count": 11,
   "metadata": {},
   "outputs": [
    {
     "name": "stdout",
     "output_type": "stream",
     "text": [
      "enter list by raw_input : [1,2,3]\n",
      "data in var :  [1,2,3]\n",
      "<type 'str'>\n",
      "memory :  72731904\n",
      "enter list by input : [1,2,3]\n",
      "data in var :  [1, 2, 3]\n",
      "<type 'list'>\n",
      "memory :  73580424\n"
     ]
    }
   ],
   "source": [
    "var = raw_input(\"enter list by raw_input : \") # 12 + 56j ---->>> var\n",
    "print \"data in var : \",var # print statement\n",
    "print(type(var)) # str\n",
    "print \"memory : \",id(var)\n",
    "var = input(\"enter list by input : \") # 12 + 56j ---->>> var\n",
    "print \"data in var : \",var # print statement\n",
    "print(type(var)) # str\n",
    "print \"memory : \",id(var)"
   ]
  },
  {
   "cell_type": "code",
   "execution_count": 17,
   "metadata": {},
   "outputs": [
    {
     "name": "stdout",
     "output_type": "stream",
     "text": [
      "enter any data : \"123\"\n",
      "data in var :  123\n",
      "<type 'str'>\n",
      "memory :  72732264\n",
      "data in var :  123\n",
      "<type 'int'>\n",
      "memory :  33717888\n"
     ]
    }
   ],
   "source": [
    "# int () ====>>> to convert any datatype to int\n",
    "\n",
    "# flaot ===>> success\n",
    "# complex ===>> failed ===>> TypeError\n",
    "# bool ===>> success\n",
    "# None====>>> failed ====>> TypeError\n",
    "# str====>>> \n",
    "# str--int ==>>>\n",
    "# str-->>float==>>\n",
    "# list\n",
    "# tuple\n",
    "# set\n",
    "# dict\n",
    "var = input(\"enter any data : \") \n",
    "print \"data in var : \",var # print statement\n",
    "print(type(var)) # str\n",
    "print \"memory : \",id(var)\n",
    "var = int(var )\n",
    "print \"data in var : \",var # print statement\n",
    "print(type(var)) # str\n",
    "print \"memory : \",id(var)"
   ]
  },
  {
   "cell_type": "code",
   "execution_count": null,
   "metadata": {},
   "outputs": [],
   "source": [
    "# float () ====>>> to convert any datatype to float\n",
    "\n",
    "# int ===>> success\n",
    "# complex ===>> failed ===>> TypeError\n",
    "# bool ===>> success\n",
    "# None====>>> failed ====>> TypeError\n",
    "# str====>>> \n",
    "# str--int ==>>>\n",
    "# str-->>float==>>\n",
    "# list\n",
    "# tuple\n",
    "# set\n",
    "# dict\n",
    "var = input(\"enter any data : \") \n",
    "print \"data in var : \",var # print statement\n",
    "print(type(var)) # str\n",
    "print \"memory : \",id(var)\n",
    "var = float(var )\n",
    "print \"data in var : \",var # print statement\n",
    "print(type(var)) # str\n",
    "print \"memory : \",id(var)"
   ]
  },
  {
   "cell_type": "code",
   "execution_count": null,
   "metadata": {},
   "outputs": [],
   "source": [
    "# complex () ====>>> to convert any datatype to complex\n",
    "\n",
    "# flaot ===>> success\n",
    "# complex ===>> failed ===>> TypeError\n",
    "# bool ===>> success\n",
    "# None====>>> failed ====>> TypeError\n",
    "# str====>>> \n",
    "# str--int ==>>>\n",
    "# str-->>float==>>\n",
    "# list\n",
    "# tuple\n",
    "# set\n",
    "# dict\n",
    "var = input(\"enter any data : \") \n",
    "print \"data in var : \",var # print statement\n",
    "print(type(var)) # str\n",
    "print \"memory : \",id(var)\n",
    "var = complex(var )\n",
    "print \"data in var : \",var # print statement\n",
    "print(type(var)) # str\n",
    "print \"memory : \",id(var)"
   ]
  },
  {
   "cell_type": "code",
   "execution_count": null,
   "metadata": {},
   "outputs": [],
   "source": []
  },
  {
   "cell_type": "code",
   "execution_count": null,
   "metadata": {},
   "outputs": [],
   "source": []
  }
 ],
 "metadata": {
  "kernelspec": {
   "display_name": "Python 2",
   "language": "python",
   "name": "python2"
  },
  "language_info": {
   "codemirror_mode": {
    "name": "ipython",
    "version": 2
   },
   "file_extension": ".py",
   "mimetype": "text/x-python",
   "name": "python",
   "nbconvert_exporter": "python",
   "pygments_lexer": "ipython2",
   "version": "2.7.16"
  }
 },
 "nbformat": 4,
 "nbformat_minor": 2
}
